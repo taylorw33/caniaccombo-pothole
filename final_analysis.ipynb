{
  "nbformat": 4,
  "nbformat_minor": 0,
  "metadata": {
    "colab": {
      "provenance": []
    },
    "kernelspec": {
      "name": "python3",
      "display_name": "Python 3"
    },
    "language_info": {
      "name": "python"
    }
  },
  "cells": [
    {
      "cell_type": "markdown",
      "source": [
        "# Import Libraries\n",
        "\n"
      ],
      "metadata": {
        "id": "5w1s7irErnHY"
      }
    },
    {
      "cell_type": "code",
      "source": [
        "import pandas as pd\n",
        "import numpy as np\n",
        "import requests\n",
        "import geopandas as gpd"
      ],
      "metadata": {
        "id": "h2x2oE9Yvwt0"
      },
      "execution_count": null,
      "outputs": []
    },
    {
      "cell_type": "markdown",
      "source": [
        "### Chicago crews able to fill more potholes due to warmer weather\n",
        "\n",
        "1. Go to the Chicago Data Portal: https://data.cityofchicago.org/\n",
        "2. Find each dataset. pothole requests and potholes patched.\n",
        "3. Add a data notes section to your github readme. This should include information about the source of your data, where it came from, how often it is updated, and the period of data it contains (e.g. 2010-present or 2012 to 2019)\n",
        "4. Lastly, test that this import works. This may take a while as the dataset is large."
      ],
      "metadata": {
        "id": "RLs-VoS0wBhZ"
      }
    },
    {
      "cell_type": "code",
      "source": [],
      "metadata": {
        "id": "Wu5pLg2-wBlU"
      },
      "execution_count": null,
      "outputs": []
    },
    {
      "cell_type": "code",
      "source": [
        "pothole = pd.read_csv(\"https://data.cityofchicago.org/resource/7as2-ds3y.csv?$limit=1000000\")"
      ],
      "metadata": {
        "id": "FflA1UMNwDyg"
      },
      "execution_count": null,
      "outputs": []
    },
    {
      "cell_type": "code",
      "source": [
        "patched = pd.read_csv(\"https://data.cityofchicago.org/resource/wqdh-9gek.csv?$limit=1000000\")"
      ],
      "metadata": {
        "id": "syIh9jWOx5EX"
      },
      "execution_count": null,
      "outputs": []
    },
    {
      "cell_type": "code",
      "source": [],
      "metadata": {
        "id": "ObSs_oSV8McY"
      },
      "execution_count": null,
      "outputs": []
    },
    {
      "cell_type": "code",
      "source": [],
      "metadata": {
        "id": "RXtmM95p8XGz"
      },
      "execution_count": null,
      "outputs": []
    },
    {
      "cell_type": "code",
      "source": [],
      "metadata": {
        "id": "4mcJW-658XLH"
      },
      "execution_count": null,
      "outputs": []
    }
  ]
}